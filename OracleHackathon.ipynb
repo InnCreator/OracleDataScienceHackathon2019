{
  "nbformat": 4,
  "nbformat_minor": 0,
  "metadata": {
    "colab": {
      "name": "OracleHackathon.ipynb",
      "version": "0.3.2",
      "provenance": [],
      "collapsed_sections": []
    },
    "kernelspec": {
      "name": "python3",
      "display_name": "Python 3"
    }
  },
  "cells": [
    {
      "metadata": {
        "id": "0YUKL2PL8eq2",
        "colab_type": "code",
        "outputId": "7ffa152b-90f7-4dd6-c5d7-b6302b3dac49",
        "colab": {
          "base_uri": "https://localhost:8080/",
          "height": 221
        }
      },
      "cell_type": "code",
      "source": [
        "pip install tweepy"
      ],
      "execution_count": 0,
      "outputs": [
        {
          "output_type": "stream",
          "text": [
            "Requirement already satisfied: tweepy in /usr/local/lib/python3.6/dist-packages (3.6.0)\n",
            "Requirement already satisfied: PySocks>=1.5.7 in /usr/local/lib/python3.6/dist-packages (from tweepy) (1.6.8)\n",
            "Requirement already satisfied: requests-oauthlib>=0.7.0 in /usr/local/lib/python3.6/dist-packages (from tweepy) (1.2.0)\n",
            "Requirement already satisfied: six>=1.10.0 in /usr/local/lib/python3.6/dist-packages (from tweepy) (1.11.0)\n",
            "Requirement already satisfied: requests>=2.11.1 in /usr/local/lib/python3.6/dist-packages (from tweepy) (2.18.4)\n",
            "Requirement already satisfied: oauthlib>=3.0.0 in /usr/local/lib/python3.6/dist-packages (from requests-oauthlib>=0.7.0->tweepy) (3.0.1)\n",
            "Requirement already satisfied: certifi>=2017.4.17 in /usr/local/lib/python3.6/dist-packages (from requests>=2.11.1->tweepy) (2019.3.9)\n",
            "Requirement already satisfied: idna<2.7,>=2.5 in /usr/local/lib/python3.6/dist-packages (from requests>=2.11.1->tweepy) (2.6)\n",
            "Requirement already satisfied: urllib3<1.23,>=1.21.1 in /usr/local/lib/python3.6/dist-packages (from requests>=2.11.1->tweepy) (1.22)\n",
            "Requirement already satisfied: chardet<3.1.0,>=3.0.2 in /usr/local/lib/python3.6/dist-packages (from requests>=2.11.1->tweepy) (3.0.4)\n"
          ],
          "name": "stdout"
        }
      ]
    },
    {
      "metadata": {
        "id": "KyavhLIba8Ib",
        "colab_type": "code",
        "outputId": "72cc446e-e797-49e2-c1d2-2bb52c7a09d7",
        "colab": {
          "base_uri": "https://localhost:8080/",
          "height": 35
        }
      },
      "cell_type": "code",
      "source": [
        "pip install beautifulsoup4"
      ],
      "execution_count": 0,
      "outputs": [
        {
          "output_type": "stream",
          "text": [
            "Requirement already satisfied: beautifulsoup4 in /usr/local/lib/python3.6/dist-packages (4.6.3)\n"
          ],
          "name": "stdout"
        }
      ]
    },
    {
      "metadata": {
        "id": "eZTPVT4Migur",
        "colab_type": "code",
        "colab": {}
      },
      "cell_type": "code",
      "source": [
        "import tweepy as tw\n",
        "import pandas as pd\n",
        "import numpy as np\n",
        "import matplotlib.pyplot as plt\n",
        "import seaborn as sns\n",
        "import itertools\n",
        "import collections\n",
        "import nltk\n",
        "from nltk.corpus import stopwords\n",
        "import re\n",
        "import networkx\n",
        "\n",
        "from textblob import TextBlob\n",
        "\n",
        "import warnings\n",
        "warnings.filterwarnings(\"ignore\")"
      ],
      "execution_count": 0,
      "outputs": []
    },
    {
      "metadata": {
        "id": "7LKB7saX6Y61",
        "colab_type": "code",
        "colab": {}
      },
      "cell_type": "code",
      "source": [
        "consumer_key= 'E5CnblXnaItHAclqBSJvuO8Y9'\n",
        "consumer_secret= 'uayOQCLvEcjuGabfpGFIrKi9sqXgP219MCXMtzjowmUqSPl4Xl'\n",
        "access_token= '482072796-uQVOCqqWoepMmfBM62QpFhOVM7djaOS8ZMKqRNVA'\n",
        "access_token_secret= 'daczZiP86sN2RK294YxX4r94v6jrez1cuvviUQ5W2j8qd'"
      ],
      "execution_count": 0,
      "outputs": []
    },
    {
      "metadata": {
        "id": "PV7rhAj67lkx",
        "colab_type": "code",
        "colab": {}
      },
      "cell_type": "code",
      "source": [
        "auth = tw.OAuthHandler(consumer_key, consumer_secret)\n",
        "auth.set_access_token(access_token, access_token_secret)\n",
        "api = tw.API(auth, wait_on_rate_limit=True)"
      ],
      "execution_count": 0,
      "outputs": []
    },
    {
      "metadata": {
        "id": "0irhnAKY8OYl",
        "colab_type": "code",
        "colab": {}
      },
      "cell_type": "code",
      "source": [
        "# define the search words and date since\n",
        "search_words = [\"#foodsecurity\", '#UHC', 'big four agenda','#affordablehousing',\n",
        "                '#manufacturing','#BigFourAgenda','#Big4Agenda',\n",
        "                '#YouthandThebigfour']\n",
        "date_since = \"2019-3-11\""
      ],
      "execution_count": 0,
      "outputs": []
    },
    {
      "metadata": {
        "id": "rkoKDKaYJga7",
        "colab_type": "code",
        "colab": {}
      },
      "cell_type": "code",
      "source": [
        " # Create a function to remove URL''s from the tweets\n",
        "  def remove_url(txt):\n",
        "    # Replace URLs found in a text string with nothing \n",
        "#     (i.e. it will remove the URL from the string).\n",
        "\n",
        "#     Parameters\n",
        "#     ----------\n",
        "#     txt : string\n",
        "#         A text string that you want to parse and remove urls.\n",
        "\n",
        "#     Returns\n",
        "#     -------\n",
        "#     The same txt string with url's removed.\n",
        "\n",
        "    return \" \".join(re.sub(\"([^0-9A-Za-z \\t])|(\\w+:\\/\\/\\S+)\", \"\", txt).split())"
      ],
      "execution_count": 0,
      "outputs": []
    },
    {
      "metadata": {
        "id": "A3zKiyLVm3sf",
        "colab_type": "code",
        "outputId": "5c7e3bd2-7a6c-498b-ccca-51cc53ad91a5",
        "colab": {
          "base_uri": "https://localhost:8080/",
          "height": 164
        }
      },
      "cell_type": "code",
      "source": [
        "Our_tweets = []\n",
        "for search_word in search_words:\n",
        "  new_search = search_word + \" -filter:retweets\"\n",
        "  tweets = tw.Cursor(api.search,\n",
        "                  q=new_search,\n",
        "                  lang=\"en\",\n",
        "                   since=date_since).items(100)\n",
        "  Our_tweets.append(tweets)\n",
        "Our_tweets"
      ],
      "execution_count": 0,
      "outputs": [
        {
          "output_type": "execute_result",
          "data": {
            "text/plain": [
              "[<tweepy.cursor.ItemIterator at 0x7fd2c83c9b00>,\n",
              " <tweepy.cursor.ItemIterator at 0x7fd2c83c9e48>,\n",
              " <tweepy.cursor.ItemIterator at 0x7fd2c835c1d0>,\n",
              " <tweepy.cursor.ItemIterator at 0x7fd2c835c518>,\n",
              " <tweepy.cursor.ItemIterator at 0x7fd2c835c860>,\n",
              " <tweepy.cursor.ItemIterator at 0x7fd2c835cba8>,\n",
              " <tweepy.cursor.ItemIterator at 0x7fd2c835cf60>,\n",
              " <tweepy.cursor.ItemIterator at 0x7fd2c8369358>]"
            ]
          },
          "metadata": {
            "tags": []
          },
          "execution_count": 8
        }
      ]
    },
    {
      "metadata": {
        "id": "mOS6DNBHHiU4",
        "colab_type": "code",
        "outputId": "889cadf8-41b7-4be8-c528-c47c98eecb9a",
        "colab": {
          "base_uri": "https://localhost:8080/",
          "height": 1084
        }
      },
      "cell_type": "code",
      "source": [
        "users_locs=[]\n",
        "all_split_tweets=[]\n",
        "for tweets in Our_tweets:\n",
        "  for tweet in tweets:\n",
        "    if tweet.user.location == 'Nairobi' or tweet.user.location == 'Mombasa':\n",
        "      tweets_no_url = remove_url(tweet.text)\n",
        "      all_split_tweets.append(tweets_no_url.lower().split())\n",
        "      users_locs.append([tweet.user.screen_name, tweet.user.location, tweets_no_url])\n",
        "\n",
        "users_locs \n",
        "# all_split_tweets"
      ],
      "execution_count": 0,
      "outputs": [
        {
          "output_type": "execute_result",
          "data": {
            "text/plain": [
              "[['susan_mochache',\n",
              "  'Nairobi',\n",
              "  'Free maternal health services under the UHC pilot phase has increased the number of hospital deliveries at the Ma'],\n",
              " ['susan_mochache',\n",
              "  'Nairobi',\n",
              "  'machakoscounty residents can now access free mammography radiology and other diagnostic services since the launch'],\n",
              " ['susan_mochache',\n",
              "  'Nairobi',\n",
              "  'machakoscounty was chosen as a UHC pilot county due to high number of traffic accidents along the Nairobi Momba'],\n",
              " ['susan_mochache',\n",
              "  'Nairobi',\n",
              "  'We are received machakoscounty by Deputy Governor FrancisMaliti Machakos is one of the UHC pilot counties'],\n",
              " ['susan_mochache',\n",
              "  'Nairobi',\n",
              "  'Visiting Athi River Health Centre with Thailand Public Health Minister Prof Emeritus Dr PiyasakolThailand is coop'],\n",
              " ['KenyanTraffic',\n",
              "  'Nairobi',\n",
              "  '1139 MAJOR ROAD INFRASTRUCTURE DEVELOPMENT PROJECTS ENABLING ATTAINMENT OF BIG FOUR AGENDA PDUDelivery'],\n",
              " ['ntvkenya',\n",
              "  'Nairobi',\n",
              "  'David Osiany Isnt this the government has food security as part of their big four agenda It is wrong to call dr'],\n",
              " ['Ademba_Rocco',\n",
              "  'Nairobi',\n",
              "  'The war on corruption is a sure bet in promoting the affordable housing component of the Big Four Agenda If you know you know'],\n",
              " ['MarkOmbima',\n",
              "  'Nairobi',\n",
              "  'JKLive Whenever UNCTADKituyi speaksI listen keenly and convince myself that Luhyas got very bright individualsD'],\n",
              " ['babuowiono',\n",
              "  'Nairobi',\n",
              "  'fellow Kenyans its high time we join hands and support his excellency hon uhuru Kenyatta in his big four agenda'],\n",
              " ['ssiringi',\n",
              "  'Nairobi',\n",
              "  'Corruption is the biggest enemy to the BigFourAgenda Prof Magoha says in response to MPs during vetting'],\n",
              " ['SOntiri',\n",
              "  'Nairobi',\n",
              "  'UNCTADKituyi if we dont trade with our neighbors we will betray them Need to link the National Investment in Pr'],\n",
              " ['StateHouseKenya',\n",
              "  'Nairobi',\n",
              "  'President UKenyatta said the Big4Agenda provides young persons with avenues for economic empowerment dignified l'],\n",
              " ['lovechildkenya',\n",
              "  'Nairobi',\n",
              "  'Big4Agenda is slowly replaced by Handshake Sad REALITY of life Mr President UKenyatta Your legacy is very impor'],\n",
              " ['USAIDKenya',\n",
              "  'Nairobi',\n",
              "  'These community health volunteers are walking for a worthy cause Weve trained more than 5000 health workers in m'],\n",
              " ['ShikoM',\n",
              "  'Nairobi',\n",
              "  'Is the a roadmap for the Big4Agenda with milestones that we can look at This as a way of keeping GOK accountable OleItumbi'],\n",
              " ['AmunabiMwene',\n",
              "  'Nairobi',\n",
              "  'wmnjoya Leave alone big4agenda since 2013 they said they want to ensure no kenyan dies of hunger and starvation'],\n",
              " ['Bigbradii',\n",
              "  'Nairobi',\n",
              "  'As the Big Brothers are fighting residents of Marsabit Turkana Makueni Kajiado Kwale and Isiolo county are dyi'],\n",
              " ['USAIDKenya',\n",
              "  'Nairobi',\n",
              "  'How do we contribute to Kenyas Big4Agenda in health Were training county officials to better use and present da']]"
            ]
          },
          "metadata": {
            "tags": []
          },
          "execution_count": 9
        }
      ]
    },
    {
      "metadata": {
        "id": "J8L5HlGXnufL",
        "colab_type": "code",
        "outputId": "7f0beed6-7abd-4f57-bf03-cb76aefcc5da",
        "colab": {
          "base_uri": "https://localhost:8080/",
          "height": 645
        }
      },
      "cell_type": "code",
      "source": [
        "\n",
        "df = pd.DataFrame(data=users_locs,\n",
        "                 columns=['User', 'Location', 'Tweet'])\n",
        "df"
      ],
      "execution_count": 0,
      "outputs": [
        {
          "output_type": "execute_result",
          "data": {
            "text/html": [
              "<div>\n",
              "<style scoped>\n",
              "    .dataframe tbody tr th:only-of-type {\n",
              "        vertical-align: middle;\n",
              "    }\n",
              "\n",
              "    .dataframe tbody tr th {\n",
              "        vertical-align: top;\n",
              "    }\n",
              "\n",
              "    .dataframe thead th {\n",
              "        text-align: right;\n",
              "    }\n",
              "</style>\n",
              "<table border=\"1\" class=\"dataframe\">\n",
              "  <thead>\n",
              "    <tr style=\"text-align: right;\">\n",
              "      <th></th>\n",
              "      <th>User</th>\n",
              "      <th>Location</th>\n",
              "      <th>Tweet</th>\n",
              "    </tr>\n",
              "  </thead>\n",
              "  <tbody>\n",
              "    <tr>\n",
              "      <th>0</th>\n",
              "      <td>susan_mochache</td>\n",
              "      <td>Nairobi</td>\n",
              "      <td>Free maternal health services under the UHC pi...</td>\n",
              "    </tr>\n",
              "    <tr>\n",
              "      <th>1</th>\n",
              "      <td>susan_mochache</td>\n",
              "      <td>Nairobi</td>\n",
              "      <td>machakoscounty residents can now access free m...</td>\n",
              "    </tr>\n",
              "    <tr>\n",
              "      <th>2</th>\n",
              "      <td>susan_mochache</td>\n",
              "      <td>Nairobi</td>\n",
              "      <td>machakoscounty was chosen as a UHC pilot count...</td>\n",
              "    </tr>\n",
              "    <tr>\n",
              "      <th>3</th>\n",
              "      <td>susan_mochache</td>\n",
              "      <td>Nairobi</td>\n",
              "      <td>We are received machakoscounty by Deputy Gover...</td>\n",
              "    </tr>\n",
              "    <tr>\n",
              "      <th>4</th>\n",
              "      <td>susan_mochache</td>\n",
              "      <td>Nairobi</td>\n",
              "      <td>Visiting Athi River Health Centre with Thailan...</td>\n",
              "    </tr>\n",
              "    <tr>\n",
              "      <th>5</th>\n",
              "      <td>KenyanTraffic</td>\n",
              "      <td>Nairobi</td>\n",
              "      <td>1139 MAJOR ROAD INFRASTRUCTURE DEVELOPMENT PRO...</td>\n",
              "    </tr>\n",
              "    <tr>\n",
              "      <th>6</th>\n",
              "      <td>ntvkenya</td>\n",
              "      <td>Nairobi</td>\n",
              "      <td>David Osiany Isnt this the government has food...</td>\n",
              "    </tr>\n",
              "    <tr>\n",
              "      <th>7</th>\n",
              "      <td>Ademba_Rocco</td>\n",
              "      <td>Nairobi</td>\n",
              "      <td>The war on corruption is a sure bet in promoti...</td>\n",
              "    </tr>\n",
              "    <tr>\n",
              "      <th>8</th>\n",
              "      <td>MarkOmbima</td>\n",
              "      <td>Nairobi</td>\n",
              "      <td>JKLive Whenever UNCTADKituyi speaksI listen ke...</td>\n",
              "    </tr>\n",
              "    <tr>\n",
              "      <th>9</th>\n",
              "      <td>babuowiono</td>\n",
              "      <td>Nairobi</td>\n",
              "      <td>fellow Kenyans its high time we join hands and...</td>\n",
              "    </tr>\n",
              "    <tr>\n",
              "      <th>10</th>\n",
              "      <td>ssiringi</td>\n",
              "      <td>Nairobi</td>\n",
              "      <td>Corruption is the biggest enemy to the BigFour...</td>\n",
              "    </tr>\n",
              "    <tr>\n",
              "      <th>11</th>\n",
              "      <td>SOntiri</td>\n",
              "      <td>Nairobi</td>\n",
              "      <td>UNCTADKituyi if we dont trade with our neighbo...</td>\n",
              "    </tr>\n",
              "    <tr>\n",
              "      <th>12</th>\n",
              "      <td>StateHouseKenya</td>\n",
              "      <td>Nairobi</td>\n",
              "      <td>President UKenyatta said the Big4Agenda provid...</td>\n",
              "    </tr>\n",
              "    <tr>\n",
              "      <th>13</th>\n",
              "      <td>lovechildkenya</td>\n",
              "      <td>Nairobi</td>\n",
              "      <td>Big4Agenda is slowly replaced by Handshake Sad...</td>\n",
              "    </tr>\n",
              "    <tr>\n",
              "      <th>14</th>\n",
              "      <td>USAIDKenya</td>\n",
              "      <td>Nairobi</td>\n",
              "      <td>These community health volunteers are walking ...</td>\n",
              "    </tr>\n",
              "    <tr>\n",
              "      <th>15</th>\n",
              "      <td>ShikoM</td>\n",
              "      <td>Nairobi</td>\n",
              "      <td>Is the a roadmap for the Big4Agenda with miles...</td>\n",
              "    </tr>\n",
              "    <tr>\n",
              "      <th>16</th>\n",
              "      <td>AmunabiMwene</td>\n",
              "      <td>Nairobi</td>\n",
              "      <td>wmnjoya Leave alone big4agenda since 2013 they...</td>\n",
              "    </tr>\n",
              "    <tr>\n",
              "      <th>17</th>\n",
              "      <td>Bigbradii</td>\n",
              "      <td>Nairobi</td>\n",
              "      <td>As the Big Brothers are fighting residents of ...</td>\n",
              "    </tr>\n",
              "    <tr>\n",
              "      <th>18</th>\n",
              "      <td>USAIDKenya</td>\n",
              "      <td>Nairobi</td>\n",
              "      <td>How do we contribute to Kenyas Big4Agenda in h...</td>\n",
              "    </tr>\n",
              "  </tbody>\n",
              "</table>\n",
              "</div>"
            ],
            "text/plain": [
              "               User Location  \\\n",
              "0    susan_mochache  Nairobi   \n",
              "1    susan_mochache  Nairobi   \n",
              "2    susan_mochache  Nairobi   \n",
              "3    susan_mochache  Nairobi   \n",
              "4    susan_mochache  Nairobi   \n",
              "5     KenyanTraffic  Nairobi   \n",
              "6          ntvkenya  Nairobi   \n",
              "7      Ademba_Rocco  Nairobi   \n",
              "8        MarkOmbima  Nairobi   \n",
              "9        babuowiono  Nairobi   \n",
              "10         ssiringi  Nairobi   \n",
              "11          SOntiri  Nairobi   \n",
              "12  StateHouseKenya  Nairobi   \n",
              "13   lovechildkenya  Nairobi   \n",
              "14       USAIDKenya  Nairobi   \n",
              "15           ShikoM  Nairobi   \n",
              "16     AmunabiMwene  Nairobi   \n",
              "17        Bigbradii  Nairobi   \n",
              "18       USAIDKenya  Nairobi   \n",
              "\n",
              "                                                Tweet  \n",
              "0   Free maternal health services under the UHC pi...  \n",
              "1   machakoscounty residents can now access free m...  \n",
              "2   machakoscounty was chosen as a UHC pilot count...  \n",
              "3   We are received machakoscounty by Deputy Gover...  \n",
              "4   Visiting Athi River Health Centre with Thailan...  \n",
              "5   1139 MAJOR ROAD INFRASTRUCTURE DEVELOPMENT PRO...  \n",
              "6   David Osiany Isnt this the government has food...  \n",
              "7   The war on corruption is a sure bet in promoti...  \n",
              "8   JKLive Whenever UNCTADKituyi speaksI listen ke...  \n",
              "9   fellow Kenyans its high time we join hands and...  \n",
              "10  Corruption is the biggest enemy to the BigFour...  \n",
              "11  UNCTADKituyi if we dont trade with our neighbo...  \n",
              "12  President UKenyatta said the Big4Agenda provid...  \n",
              "13  Big4Agenda is slowly replaced by Handshake Sad...  \n",
              "14  These community health volunteers are walking ...  \n",
              "15  Is the a roadmap for the Big4Agenda with miles...  \n",
              "16  wmnjoya Leave alone big4agenda since 2013 they...  \n",
              "17  As the Big Brothers are fighting residents of ...  \n",
              "18  How do we contribute to Kenyas Big4Agenda in h...  "
            ]
          },
          "metadata": {
            "tags": []
          },
          "execution_count": 10
        }
      ]
    },
    {
      "metadata": {
        "id": "WeC0hDPnHrC5",
        "colab_type": "code",
        "outputId": "5754980b-06f0-43c9-efc2-1f0e595f7cbc",
        "colab": {
          "base_uri": "https://localhost:8080/",
          "height": 206
        }
      },
      "cell_type": "code",
      "source": [
        "df.head()"
      ],
      "execution_count": 0,
      "outputs": [
        {
          "output_type": "execute_result",
          "data": {
            "text/html": [
              "<div>\n",
              "<style scoped>\n",
              "    .dataframe tbody tr th:only-of-type {\n",
              "        vertical-align: middle;\n",
              "    }\n",
              "\n",
              "    .dataframe tbody tr th {\n",
              "        vertical-align: top;\n",
              "    }\n",
              "\n",
              "    .dataframe thead th {\n",
              "        text-align: right;\n",
              "    }\n",
              "</style>\n",
              "<table border=\"1\" class=\"dataframe\">\n",
              "  <thead>\n",
              "    <tr style=\"text-align: right;\">\n",
              "      <th></th>\n",
              "      <th>User</th>\n",
              "      <th>Location</th>\n",
              "      <th>Tweet</th>\n",
              "    </tr>\n",
              "  </thead>\n",
              "  <tbody>\n",
              "    <tr>\n",
              "      <th>0</th>\n",
              "      <td>susan_mochache</td>\n",
              "      <td>Nairobi</td>\n",
              "      <td>Free maternal health services under the UHC pi...</td>\n",
              "    </tr>\n",
              "    <tr>\n",
              "      <th>1</th>\n",
              "      <td>susan_mochache</td>\n",
              "      <td>Nairobi</td>\n",
              "      <td>machakoscounty residents can now access free m...</td>\n",
              "    </tr>\n",
              "    <tr>\n",
              "      <th>2</th>\n",
              "      <td>susan_mochache</td>\n",
              "      <td>Nairobi</td>\n",
              "      <td>machakoscounty was chosen as a UHC pilot count...</td>\n",
              "    </tr>\n",
              "    <tr>\n",
              "      <th>3</th>\n",
              "      <td>susan_mochache</td>\n",
              "      <td>Nairobi</td>\n",
              "      <td>We are received machakoscounty by Deputy Gover...</td>\n",
              "    </tr>\n",
              "    <tr>\n",
              "      <th>4</th>\n",
              "      <td>susan_mochache</td>\n",
              "      <td>Nairobi</td>\n",
              "      <td>Visiting Athi River Health Centre with Thailan...</td>\n",
              "    </tr>\n",
              "  </tbody>\n",
              "</table>\n",
              "</div>"
            ],
            "text/plain": [
              "             User Location                                              Tweet\n",
              "0  susan_mochache  Nairobi  Free maternal health services under the UHC pi...\n",
              "1  susan_mochache  Nairobi  machakoscounty residents can now access free m...\n",
              "2  susan_mochache  Nairobi  machakoscounty was chosen as a UHC pilot count...\n",
              "3  susan_mochache  Nairobi  We are received machakoscounty by Deputy Gover...\n",
              "4  susan_mochache  Nairobi  Visiting Athi River Health Centre with Thailan..."
            ]
          },
          "metadata": {
            "tags": []
          },
          "execution_count": 11
        }
      ]
    },
    {
      "metadata": {
        "id": "GSQUmsGzODmh",
        "colab_type": "code",
        "outputId": "0715bb73-ff71-4512-a507-5b97c9ba3421",
        "colab": {
          "base_uri": "https://localhost:8080/",
          "height": 164
        }
      },
      "cell_type": "code",
      "source": [
        "df.info()\n",
        "# there are no null values in our dataframe."
      ],
      "execution_count": 0,
      "outputs": [
        {
          "output_type": "stream",
          "text": [
            "<class 'pandas.core.frame.DataFrame'>\n",
            "RangeIndex: 19 entries, 0 to 18\n",
            "Data columns (total 3 columns):\n",
            "User        19 non-null object\n",
            "Location    19 non-null object\n",
            "Tweet       19 non-null object\n",
            "dtypes: object(3)\n",
            "memory usage: 536.0+ bytes\n"
          ],
          "name": "stdout"
        }
      ]
    },
    {
      "metadata": {
        "id": "F0yzHUYQHszQ",
        "colab_type": "code",
        "outputId": "fb006828-2520-4b8e-c9c6-342832d97f4d",
        "colab": {
          "base_uri": "https://localhost:8080/",
          "height": 175
        }
      },
      "cell_type": "code",
      "source": [
        "df.describe()"
      ],
      "execution_count": 0,
      "outputs": [
        {
          "output_type": "execute_result",
          "data": {
            "text/html": [
              "<div>\n",
              "<style scoped>\n",
              "    .dataframe tbody tr th:only-of-type {\n",
              "        vertical-align: middle;\n",
              "    }\n",
              "\n",
              "    .dataframe tbody tr th {\n",
              "        vertical-align: top;\n",
              "    }\n",
              "\n",
              "    .dataframe thead th {\n",
              "        text-align: right;\n",
              "    }\n",
              "</style>\n",
              "<table border=\"1\" class=\"dataframe\">\n",
              "  <thead>\n",
              "    <tr style=\"text-align: right;\">\n",
              "      <th></th>\n",
              "      <th>User</th>\n",
              "      <th>Location</th>\n",
              "      <th>Tweet</th>\n",
              "    </tr>\n",
              "  </thead>\n",
              "  <tbody>\n",
              "    <tr>\n",
              "      <th>count</th>\n",
              "      <td>19</td>\n",
              "      <td>19</td>\n",
              "      <td>19</td>\n",
              "    </tr>\n",
              "    <tr>\n",
              "      <th>unique</th>\n",
              "      <td>14</td>\n",
              "      <td>1</td>\n",
              "      <td>19</td>\n",
              "    </tr>\n",
              "    <tr>\n",
              "      <th>top</th>\n",
              "      <td>susan_mochache</td>\n",
              "      <td>Nairobi</td>\n",
              "      <td>Visiting Athi River Health Centre with Thailan...</td>\n",
              "    </tr>\n",
              "    <tr>\n",
              "      <th>freq</th>\n",
              "      <td>5</td>\n",
              "      <td>19</td>\n",
              "      <td>1</td>\n",
              "    </tr>\n",
              "  </tbody>\n",
              "</table>\n",
              "</div>"
            ],
            "text/plain": [
              "                  User Location  \\\n",
              "count               19       19   \n",
              "unique              14        1   \n",
              "top     susan_mochache  Nairobi   \n",
              "freq                 5       19   \n",
              "\n",
              "                                                    Tweet  \n",
              "count                                                  19  \n",
              "unique                                                 19  \n",
              "top     Visiting Athi River Health Centre with Thailan...  \n",
              "freq                                                    1  "
            ]
          },
          "metadata": {
            "tags": []
          },
          "execution_count": 13
        }
      ]
    },
    {
      "metadata": {
        "id": "emuIVwo9KvnL",
        "colab_type": "code",
        "outputId": "86b11032-f77d-4d44-b3ec-9a89621776af",
        "colab": {
          "base_uri": "https://localhost:8080/",
          "height": 293
        }
      },
      "cell_type": "code",
      "source": [
        "# list of all words across tweets\n",
        "all_tweets_no_url = list(itertools.chain(*all_split_tweets))\n",
        "\n",
        "# create a counter\n",
        "counts_no_url = collections.Counter(all_tweets_no_url)\n",
        "\n",
        "counts_no_url.most_common(15)\n"
      ],
      "execution_count": 0,
      "outputs": [
        {
          "output_type": "execute_result",
          "data": {
            "text/plain": [
              "[('the', 17),\n",
              " ('of', 10),\n",
              " ('to', 8),\n",
              " ('is', 8),\n",
              " ('health', 6),\n",
              " ('and', 6),\n",
              " ('we', 6),\n",
              " ('in', 6),\n",
              " ('a', 5),\n",
              " ('big', 5),\n",
              " ('big4agenda', 5),\n",
              " ('as', 4),\n",
              " ('are', 4),\n",
              " ('with', 4),\n",
              " ('four', 4)]"
            ]
          },
          "metadata": {
            "tags": []
          },
          "execution_count": 14
        }
      ]
    },
    {
      "metadata": {
        "id": "c-QTO1gfK-ql",
        "colab_type": "code",
        "outputId": "6a3ed2a9-3d58-4dfe-860a-c3e4601cdcb1",
        "colab": {
          "base_uri": "https://localhost:8080/",
          "height": 520
        }
      },
      "cell_type": "code",
      "source": [
        "# based on the counter, you can create a dataframe for analysis and plotting to view the most common words\n",
        "frequent_words_df = pd.DataFrame(counts_no_url.most_common(15),\n",
        "                                columns=['words', 'count']\n",
        "                                )\n",
        "frequent_words_df"
      ],
      "execution_count": 0,
      "outputs": [
        {
          "output_type": "execute_result",
          "data": {
            "text/html": [
              "<div>\n",
              "<style scoped>\n",
              "    .dataframe tbody tr th:only-of-type {\n",
              "        vertical-align: middle;\n",
              "    }\n",
              "\n",
              "    .dataframe tbody tr th {\n",
              "        vertical-align: top;\n",
              "    }\n",
              "\n",
              "    .dataframe thead th {\n",
              "        text-align: right;\n",
              "    }\n",
              "</style>\n",
              "<table border=\"1\" class=\"dataframe\">\n",
              "  <thead>\n",
              "    <tr style=\"text-align: right;\">\n",
              "      <th></th>\n",
              "      <th>words</th>\n",
              "      <th>count</th>\n",
              "    </tr>\n",
              "  </thead>\n",
              "  <tbody>\n",
              "    <tr>\n",
              "      <th>0</th>\n",
              "      <td>the</td>\n",
              "      <td>17</td>\n",
              "    </tr>\n",
              "    <tr>\n",
              "      <th>1</th>\n",
              "      <td>of</td>\n",
              "      <td>10</td>\n",
              "    </tr>\n",
              "    <tr>\n",
              "      <th>2</th>\n",
              "      <td>to</td>\n",
              "      <td>8</td>\n",
              "    </tr>\n",
              "    <tr>\n",
              "      <th>3</th>\n",
              "      <td>is</td>\n",
              "      <td>8</td>\n",
              "    </tr>\n",
              "    <tr>\n",
              "      <th>4</th>\n",
              "      <td>health</td>\n",
              "      <td>6</td>\n",
              "    </tr>\n",
              "    <tr>\n",
              "      <th>5</th>\n",
              "      <td>and</td>\n",
              "      <td>6</td>\n",
              "    </tr>\n",
              "    <tr>\n",
              "      <th>6</th>\n",
              "      <td>we</td>\n",
              "      <td>6</td>\n",
              "    </tr>\n",
              "    <tr>\n",
              "      <th>7</th>\n",
              "      <td>in</td>\n",
              "      <td>6</td>\n",
              "    </tr>\n",
              "    <tr>\n",
              "      <th>8</th>\n",
              "      <td>a</td>\n",
              "      <td>5</td>\n",
              "    </tr>\n",
              "    <tr>\n",
              "      <th>9</th>\n",
              "      <td>big</td>\n",
              "      <td>5</td>\n",
              "    </tr>\n",
              "    <tr>\n",
              "      <th>10</th>\n",
              "      <td>big4agenda</td>\n",
              "      <td>5</td>\n",
              "    </tr>\n",
              "    <tr>\n",
              "      <th>11</th>\n",
              "      <td>as</td>\n",
              "      <td>4</td>\n",
              "    </tr>\n",
              "    <tr>\n",
              "      <th>12</th>\n",
              "      <td>are</td>\n",
              "      <td>4</td>\n",
              "    </tr>\n",
              "    <tr>\n",
              "      <th>13</th>\n",
              "      <td>with</td>\n",
              "      <td>4</td>\n",
              "    </tr>\n",
              "    <tr>\n",
              "      <th>14</th>\n",
              "      <td>four</td>\n",
              "      <td>4</td>\n",
              "    </tr>\n",
              "  </tbody>\n",
              "</table>\n",
              "</div>"
            ],
            "text/plain": [
              "         words  count\n",
              "0          the     17\n",
              "1           of     10\n",
              "2           to      8\n",
              "3           is      8\n",
              "4       health      6\n",
              "5          and      6\n",
              "6           we      6\n",
              "7           in      6\n",
              "8            a      5\n",
              "9          big      5\n",
              "10  big4agenda      5\n",
              "11          as      4\n",
              "12         are      4\n",
              "13        with      4\n",
              "14        four      4"
            ]
          },
          "metadata": {
            "tags": []
          },
          "execution_count": 15
        }
      ]
    },
    {
      "metadata": {
        "id": "M2SaDkyAL0Dx",
        "colab_type": "code",
        "outputId": "e2d5a5fc-c1f1-4121-d277-9cea00dc85a1",
        "colab": {
          "base_uri": "https://localhost:8080/",
          "height": 498
        }
      },
      "cell_type": "code",
      "source": [
        "fig, ax = plt.subplots(figsize=(8, 8))\n",
        "\n",
        "# Plot horizontal bar graph\n",
        "frequent_words_df.sort_values(by='count').plot.barh(x='words',\n",
        "                      y='count',\n",
        "                      ax=ax,\n",
        "                      color=\"purple\")\n",
        "\n",
        "ax.set_title(\"Common Words Found in Tweets (Including All Words)\")\n",
        "\n",
        "plt.show()"
      ],
      "execution_count": 0,
      "outputs": [
        {
          "output_type": "display_data",
          "data": {
            "image/png": "[encoded data removed]",
            "text/plain": [
              "<Figure size 576x576 with 1 Axes>"
            ]
          },
          "metadata": {
            "tags": []
          }
        }
      ]
    },
    {
      "metadata": {
        "id": "-UooSvDxL8Wy",
        "colab_type": "code",
        "outputId": "4f397b3c-8455-4f0f-cae8-9e1ae0d3dc3c",
        "colab": {
          "base_uri": "https://localhost:8080/",
          "height": 72
        }
      },
      "cell_type": "code",
      "source": [
        "# remove stopword with nltk\n",
        "nltk.download('stopwords')"
      ],
      "execution_count": 0,
      "outputs": [
        {
          "output_type": "stream",
          "text": [
            "[nltk_data] Downloading package stopwords to /root/nltk_data...\n",
            "[nltk_data]   Unzipping corpora/stopwords.zip.\n"
          ],
          "name": "stdout"
        },
        {
          "output_type": "execute_result",
          "data": {
            "text/plain": [
              "True"
            ]
          },
          "metadata": {
            "tags": []
          },
          "execution_count": 17
        }
      ]
    },
    {
      "metadata": {
        "id": "-qGIHXftMKjx",
        "colab_type": "code",
        "outputId": "0f00060e-e1e8-45b3-d7f0-5fac204735d4",
        "colab": {
          "base_uri": "https://localhost:8080/",
          "height": 201
        }
      },
      "cell_type": "code",
      "source": [
        "stop_words = set(stopwords.words('english'))\n",
        "\n",
        "# View a few words from the set\n",
        "list(stop_words)[0:10]\n",
        "\n",
        "# notice that the stopwords given by nltk are lowercase."
      ],
      "execution_count": 0,
      "outputs": [
        {
          "output_type": "execute_result",
          "data": {
            "text/plain": [
              "['yours',\n",
              " 'very',\n",
              " 'his',\n",
              " 'those',\n",
              " 'will',\n",
              " \"won't\",\n",
              " 'to',\n",
              " 'theirs',\n",
              " 'couldn',\n",
              " 'haven']"
            ]
          },
          "metadata": {
            "tags": []
          },
          "execution_count": 18
        }
      ]
    },
    {
      "metadata": {
        "id": "52FVL6AMMLuF",
        "colab_type": "code",
        "outputId": "ee8fe8c6-888f-49fa-b8b2-87434fe97e69",
        "colab": {
          "base_uri": "https://localhost:8080/",
          "height": 4076
        }
      },
      "cell_type": "code",
      "source": [
        "# remove stopwords from each lists of words\n",
        "\n",
        "tweets_no_sw = [[word for word in words if not word in stop_words]\n",
        "                       for words in all_split_tweets]\n",
        "\n",
        "tweets_no_sw"
      ],
      "execution_count": 0,
      "outputs": [
        {
          "output_type": "execute_result",
          "data": {
            "text/plain": [
              "[['free',\n",
              "  'maternal',\n",
              "  'health',\n",
              "  'services',\n",
              "  'uhc',\n",
              "  'pilot',\n",
              "  'phase',\n",
              "  'increased',\n",
              "  'number',\n",
              "  'hospital',\n",
              "  'deliveries'],\n",
              " ['machakoscounty',\n",
              "  'residents',\n",
              "  'access',\n",
              "  'free',\n",
              "  'mammography',\n",
              "  'radiology',\n",
              "  'diagnostic',\n",
              "  'services',\n",
              "  'since',\n",
              "  'launch'],\n",
              " ['machakoscounty',\n",
              "  'chosen',\n",
              "  'uhc',\n",
              "  'pilot',\n",
              "  'county',\n",
              "  'due',\n",
              "  'high',\n",
              "  'number',\n",
              "  'traffic',\n",
              "  'accidents',\n",
              "  'along',\n",
              "  'nairobi',\n",
              "  'momba'],\n",
              " ['received',\n",
              "  'machakoscounty',\n",
              "  'deputy',\n",
              "  'governor',\n",
              "  'francismaliti',\n",
              "  'machakos',\n",
              "  'one',\n",
              "  'uhc',\n",
              "  'pilot',\n",
              "  'counties'],\n",
              " ['visiting',\n",
              "  'athi',\n",
              "  'river',\n",
              "  'health',\n",
              "  'centre',\n",
              "  'thailand',\n",
              "  'public',\n",
              "  'health',\n",
              "  'minister',\n",
              "  'prof',\n",
              "  'emeritus',\n",
              "  'dr',\n",
              "  'piyasakolthailand',\n",
              "  'coop'],\n",
              " ['1139',\n",
              "  'major',\n",
              "  'road',\n",
              "  'infrastructure',\n",
              "  'development',\n",
              "  'projects',\n",
              "  'enabling',\n",
              "  'attainment',\n",
              "  'big',\n",
              "  'four',\n",
              "  'agenda',\n",
              "  'pdudelivery'],\n",
              " ['david',\n",
              "  'osiany',\n",
              "  'isnt',\n",
              "  'government',\n",
              "  'food',\n",
              "  'security',\n",
              "  'part',\n",
              "  'big',\n",
              "  'four',\n",
              "  'agenda',\n",
              "  'wrong',\n",
              "  'call',\n",
              "  'dr'],\n",
              " ['war',\n",
              "  'corruption',\n",
              "  'sure',\n",
              "  'bet',\n",
              "  'promoting',\n",
              "  'affordable',\n",
              "  'housing',\n",
              "  'component',\n",
              "  'big',\n",
              "  'four',\n",
              "  'agenda',\n",
              "  'know',\n",
              "  'know'],\n",
              " ['jklive',\n",
              "  'whenever',\n",
              "  'unctadkituyi',\n",
              "  'speaksi',\n",
              "  'listen',\n",
              "  'keenly',\n",
              "  'convince',\n",
              "  'luhyas',\n",
              "  'got',\n",
              "  'bright',\n",
              "  'individualsd'],\n",
              " ['fellow',\n",
              "  'kenyans',\n",
              "  'high',\n",
              "  'time',\n",
              "  'join',\n",
              "  'hands',\n",
              "  'support',\n",
              "  'excellency',\n",
              "  'hon',\n",
              "  'uhuru',\n",
              "  'kenyatta',\n",
              "  'big',\n",
              "  'four',\n",
              "  'agenda'],\n",
              " ['corruption',\n",
              "  'biggest',\n",
              "  'enemy',\n",
              "  'bigfouragenda',\n",
              "  'prof',\n",
              "  'magoha',\n",
              "  'says',\n",
              "  'response',\n",
              "  'mps',\n",
              "  'vetting'],\n",
              " ['unctadkituyi',\n",
              "  'dont',\n",
              "  'trade',\n",
              "  'neighbors',\n",
              "  'betray',\n",
              "  'need',\n",
              "  'link',\n",
              "  'national',\n",
              "  'investment',\n",
              "  'pr'],\n",
              " ['president',\n",
              "  'ukenyatta',\n",
              "  'said',\n",
              "  'big4agenda',\n",
              "  'provides',\n",
              "  'young',\n",
              "  'persons',\n",
              "  'avenues',\n",
              "  'economic',\n",
              "  'empowerment',\n",
              "  'dignified',\n",
              "  'l'],\n",
              " ['big4agenda',\n",
              "  'slowly',\n",
              "  'replaced',\n",
              "  'handshake',\n",
              "  'sad',\n",
              "  'reality',\n",
              "  'life',\n",
              "  'mr',\n",
              "  'president',\n",
              "  'ukenyatta',\n",
              "  'legacy',\n",
              "  'impor'],\n",
              " ['community',\n",
              "  'health',\n",
              "  'volunteers',\n",
              "  'walking',\n",
              "  'worthy',\n",
              "  'cause',\n",
              "  'weve',\n",
              "  'trained',\n",
              "  '5000',\n",
              "  'health',\n",
              "  'workers'],\n",
              " ['roadmap',\n",
              "  'big4agenda',\n",
              "  'milestones',\n",
              "  'look',\n",
              "  'way',\n",
              "  'keeping',\n",
              "  'gok',\n",
              "  'accountable',\n",
              "  'oleitumbi'],\n",
              " ['wmnjoya',\n",
              "  'leave',\n",
              "  'alone',\n",
              "  'big4agenda',\n",
              "  'since',\n",
              "  '2013',\n",
              "  'said',\n",
              "  'want',\n",
              "  'ensure',\n",
              "  'kenyan',\n",
              "  'dies',\n",
              "  'hunger',\n",
              "  'starvation'],\n",
              " ['big',\n",
              "  'brothers',\n",
              "  'fighting',\n",
              "  'residents',\n",
              "  'marsabit',\n",
              "  'turkana',\n",
              "  'makueni',\n",
              "  'kajiado',\n",
              "  'kwale',\n",
              "  'isiolo',\n",
              "  'county',\n",
              "  'dyi'],\n",
              " ['contribute',\n",
              "  'kenyas',\n",
              "  'big4agenda',\n",
              "  'health',\n",
              "  'training',\n",
              "  'county',\n",
              "  'officials',\n",
              "  'better',\n",
              "  'use',\n",
              "  'present',\n",
              "  'da']]"
            ]
          },
          "metadata": {
            "tags": []
          },
          "execution_count": 19
        }
      ]
    },
    {
      "metadata": {
        "id": "L5r2Xs5pMca-",
        "colab_type": "code",
        "outputId": "0f21c646-c381-4bab-d675-1d0bdba20372",
        "colab": {
          "base_uri": "https://localhost:8080/",
          "height": 293
        }
      },
      "cell_type": "code",
      "source": [
        "# Create a counter of words to find the most commonly used and number of times used\n",
        "all_tweets_no_sw = list(itertools.chain(*tweets_no_sw))\n",
        "\n",
        "counts_no_sw = collections.Counter(all_tweets_no_sw)\n",
        "\n",
        "counts_no_sw.most_common(15)"
      ],
      "execution_count": 0,
      "outputs": [
        {
          "output_type": "execute_result",
          "data": {
            "text/plain": [
              "[('health', 6),\n",
              " ('big', 5),\n",
              " ('big4agenda', 5),\n",
              " ('four', 4),\n",
              " ('agenda', 4),\n",
              " ('uhc', 3),\n",
              " ('pilot', 3),\n",
              " ('machakoscounty', 3),\n",
              " ('county', 3),\n",
              " ('free', 2),\n",
              " ('services', 2),\n",
              " ('number', 2),\n",
              " ('residents', 2),\n",
              " ('since', 2),\n",
              " ('high', 2)]"
            ]
          },
          "metadata": {
            "tags": []
          },
          "execution_count": 20
        }
      ]
    },
    {
      "metadata": {
        "id": "gGhONieFM9nM",
        "colab_type": "code",
        "outputId": "4bf4b19b-0b41-4918-895e-661a54e3a462",
        "colab": {
          "base_uri": "https://localhost:8080/",
          "height": 498
        }
      },
      "cell_type": "code",
      "source": [
        "# create a DataFrame and plot word frequencies without stop words\n",
        "no_sw_df = pd.DataFrame(counts_no_sw.most_common(15),\n",
        "                       columns=['words', 'count']\n",
        "                       )\n",
        "\n",
        "# no_sw_df\n",
        "\n",
        "fig, ax = plt.subplots(figsize=(8, 8))\n",
        "\n",
        "# Plot horizontal bar graph\n",
        "no_sw_df.sort_values(by='count').plot.barh(x='words',\n",
        "                      y='count',\n",
        "                      ax=ax,\n",
        "                      color=\"purple\")\n",
        "\n",
        "ax.set_title(\"Common Words Found in Tweets (Without Stop Words)\")\n",
        "\n",
        "plt.show()"
      ],
      "execution_count": 0,
      "outputs": [
        {
          "output_type": "display_data",
          "data": {
            "image/png": "[encoded data removed]",
            "text/plain": [
              "<Figure size 576x576 with 1 Axes>"
            ]
          },
          "metadata": {
            "tags": []
          }
        }
      ]
    },
    {
      "metadata": {
        "id": "RQXh2eAuNXJI",
        "colab_type": "code",
        "outputId": "3823f340-491d-438e-8bfa-a16c110f0569",
        "colab": {
          "base_uri": "https://localhost:8080/",
          "height": 715
        }
      },
      "cell_type": "code",
      "source": [
        "# Create textblob objects of the tweets\n",
        "\n",
        "sentiment_list=[]\n",
        "for tweets in tweets_no_sw:\n",
        "  #print(tweets)\n",
        "  sentiment_obj = [TextBlob(tweet)for tweet in tweets]\n",
        "  #print(sentiment_obj)\n",
        "  \n",
        "  print(sentiment_obj[0].polarity, sentiment_obj[0])\n",
        "  #break\n",
        "  sentiment_object = sentiment_obj[0].polarity, sentiment_obj[0]\n",
        "  \n",
        "  sentiment_list.append(sentiment_object)\n",
        "sentiment_list"
      ],
      "execution_count": 0,
      "outputs": [
        {
          "output_type": "stream",
          "text": [
            "0.4 free\n",
            "0.0 machakoscounty\n",
            "0.0 machakoscounty\n",
            "0.0 received\n",
            "0.0 visiting\n",
            "0.0 1139\n",
            "0.0 david\n",
            "0.0 war\n",
            "0.0 jklive\n",
            "0.0 fellow\n",
            "0.0 corruption\n",
            "0.0 unctadkituyi\n",
            "0.0 president\n",
            "0.0 big4agenda\n",
            "0.0 community\n",
            "0.0 roadmap\n",
            "0.0 wmnjoya\n",
            "0.0 big\n",
            "0.0 contribute\n"
          ],
          "name": "stdout"
        },
        {
          "output_type": "execute_result",
          "data": {
            "text/plain": [
              "[(0.4, TextBlob(\"free\")),\n",
              " (0.0, TextBlob(\"machakoscounty\")),\n",
              " (0.0, TextBlob(\"machakoscounty\")),\n",
              " (0.0, TextBlob(\"received\")),\n",
              " (0.0, TextBlob(\"visiting\")),\n",
              " (0.0, TextBlob(\"1139\")),\n",
              " (0.0, TextBlob(\"david\")),\n",
              " (0.0, TextBlob(\"war\")),\n",
              " (0.0, TextBlob(\"jklive\")),\n",
              " (0.0, TextBlob(\"fellow\")),\n",
              " (0.0, TextBlob(\"corruption\")),\n",
              " (0.0, TextBlob(\"unctadkituyi\")),\n",
              " (0.0, TextBlob(\"president\")),\n",
              " (0.0, TextBlob(\"big4agenda\")),\n",
              " (0.0, TextBlob(\"community\")),\n",
              " (0.0, TextBlob(\"roadmap\")),\n",
              " (0.0, TextBlob(\"wmnjoya\")),\n",
              " (0.0, TextBlob(\"big\")),\n",
              " (0.0, TextBlob(\"contribute\"))]"
            ]
          },
          "metadata": {
            "tags": []
          },
          "execution_count": 22
        }
      ]
    },
    {
      "metadata": {
        "id": "uzhhleHZgUwH",
        "colab_type": "code",
        "outputId": "52f345db-bf38-4985-e12c-541a3b85f4d6",
        "colab": {
          "base_uri": "https://localhost:8080/",
          "height": 55
        }
      },
      "cell_type": "code",
      "source": [
        "# Create list of polarity valuesx and tweet text\n",
        "sentiment_val=[]\n",
        "for sentiment_object in sentiment_list:\n",
        "  #print(sentiment_object, sentiment_list)\n",
        "  #break\n",
        "  sentiment_val.append([sentiment_object[1].sentiment.polarity, str(sentiment_object[1])]) #for tweet in sentiment_object]\n",
        "  #for tweet in sentiment_obj:\n",
        "    #print(tweet)\n",
        "    #sentiment_val = [tweet.sentiment.polarity, str(tweet)] \n",
        "\n",
        "print(sentiment_val)\n",
        "    #break\n",
        "    "
      ],
      "execution_count": 0,
      "outputs": [
        {
          "output_type": "stream",
          "text": [
            "[[0.4, 'free'], [0.0, 'machakoscounty'], [0.0, 'machakoscounty'], [0.0, 'received'], [0.0, 'visiting'], [0.0, '1139'], [0.0, 'david'], [0.0, 'war'], [0.0, 'jklive'], [0.0, 'fellow'], [0.0, 'corruption'], [0.0, 'unctadkituyi'], [0.0, 'president'], [0.0, 'big4agenda'], [0.0, 'community'], [0.0, 'roadmap'], [0.0, 'wmnjoya'], [0.0, 'big'], [0.0, 'contribute']]\n"
          ],
          "name": "stdout"
        }
      ]
    },
    {
      "metadata": {
        "id": "NBqhk_ORkAlr",
        "colab_type": "code",
        "outputId": "ae5ed167-ff59-4e22-d6ef-b21b5cea41ca",
        "colab": {
          "base_uri": "https://localhost:8080/",
          "height": 81
        }
      },
      "cell_type": "code",
      "source": [
        "# Create dataframe containing the polarity value and tweet text\n",
        "sentiment_df = pd.DataFrame(sentiment_val, columns=[\"polarity\", \"tweet\"])\n",
        "\n",
        "sentiment_df =sentiment_df[sentiment_df.polarity !=0.0]\n",
        "sentiment_df\n"
      ],
      "execution_count": 0,
      "outputs": [
        {
          "output_type": "execute_result",
          "data": {
            "text/html": [
              "<div>\n",
              "<style scoped>\n",
              "    .dataframe tbody tr th:only-of-type {\n",
              "        vertical-align: middle;\n",
              "    }\n",
              "\n",
              "    .dataframe tbody tr th {\n",
              "        vertical-align: top;\n",
              "    }\n",
              "\n",
              "    .dataframe thead th {\n",
              "        text-align: right;\n",
              "    }\n",
              "</style>\n",
              "<table border=\"1\" class=\"dataframe\">\n",
              "  <thead>\n",
              "    <tr style=\"text-align: right;\">\n",
              "      <th></th>\n",
              "      <th>polarity</th>\n",
              "      <th>tweet</th>\n",
              "    </tr>\n",
              "  </thead>\n",
              "  <tbody>\n",
              "    <tr>\n",
              "      <th>0</th>\n",
              "      <td>0.4</td>\n",
              "      <td>free</td>\n",
              "    </tr>\n",
              "  </tbody>\n",
              "</table>\n",
              "</div>"
            ],
            "text/plain": [
              "   polarity tweet\n",
              "0       0.4  free"
            ]
          },
          "metadata": {
            "tags": []
          },
          "execution_count": 24
        }
      ]
    },
    {
      "metadata": {
        "id": "uznC73BY1h-9",
        "colab_type": "code",
        "outputId": "eb124c41-5157-4379-96a0-132e58465cef",
        "colab": {
          "base_uri": "https://localhost:8080/",
          "height": 389
        }
      },
      "cell_type": "code",
      "source": [
        "fig, ax = plt.subplots(figsize=(8, 6))\n",
        "\n",
        "# Plot histogram of the polarity values\n",
        "sentiment_df.hist(ax=ax,\n",
        "             color=\"purple\")\n",
        "\n",
        "plt.title(\"Sentiments from Tweets on the big four agendas\")\n",
        "plt.show()\n"
      ],
      "execution_count": 0,
      "outputs": [
        {
          "output_type": "display_data",
          "data": {
            "image/png": "[encoded data removed]",
            "text/plain": [
              "<Figure size 576x432 with 1 Axes>"
            ]
          },
          "metadata": {
            "tags": []
          }
        }
      ]
    },
    {
      "metadata": {
        "id": "8KHLOcCF1l_w",
        "colab_type": "code",
        "colab": {}
      },
      "cell_type": "code",
      "source": [
        "\n"
      ],
      "execution_count": 0,
      "outputs": []
    }
  ]
}